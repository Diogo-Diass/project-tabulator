{
 "cells": [
  {
   "cell_type": "code",
   "execution_count": 2,
   "metadata": {},
   "outputs": [],
   "source": [
    "import os\n",
    "import django\n",
    "from pathlib import Path\n",
    "\n",
    "# Configura o DJANGO_SETTINGS_MODULE\n",
    "os.environ.setdefault('DJANGO_SETTINGS_MODULE', 'listaRh.settings')\n",
    "\n",
    "# Inicializa o Django\n",
    "django.setup()"
   ]
  },
  {
   "cell_type": "code",
   "execution_count": 5,
   "metadata": {},
   "outputs": [
    {
     "ename": "SynchronousOnlyOperation",
     "evalue": "You cannot call this from an async context - use a thread or sync_to_async.",
     "output_type": "error",
     "traceback": [
      "\u001b[31m---------------------------------------------------------------------------\u001b[39m",
      "\u001b[31mSynchronousOnlyOperation\u001b[39m                  Traceback (most recent call last)",
      "\u001b[36mCell\u001b[39m\u001b[36m \u001b[39m\u001b[32mIn[5]\u001b[39m\u001b[32m, line 21\u001b[39m\n\u001b[32m     16\u001b[39m     funcionario.nascimento = \u001b[33m'\u001b[39m\u001b[33m1990-02-26\u001b[39m\u001b[33m'\u001b[39m\n\u001b[32m     18\u001b[39m     funcionario.save()\n\u001b[32m---> \u001b[39m\u001b[32m21\u001b[39m \u001b[43mcriar_funcionario\u001b[49m\u001b[43m(\u001b[49m\u001b[43m)\u001b[49m\n",
      "\u001b[36mCell\u001b[39m\u001b[36m \u001b[39m\u001b[32mIn[5]\u001b[39m\u001b[32m, line 18\u001b[39m, in \u001b[36mcriar_funcionario\u001b[39m\u001b[34m()\u001b[39m\n\u001b[32m     15\u001b[39m funcionario.data_saida = \u001b[38;5;28;01mNone\u001b[39;00m\n\u001b[32m     16\u001b[39m funcionario.nascimento = \u001b[33m'\u001b[39m\u001b[33m1990-02-26\u001b[39m\u001b[33m'\u001b[39m\n\u001b[32m---> \u001b[39m\u001b[32m18\u001b[39m \u001b[43mfuncionario\u001b[49m\u001b[43m.\u001b[49m\u001b[43msave\u001b[49m\u001b[43m(\u001b[49m\u001b[43m)\u001b[49m\n",
      "\u001b[36mFile \u001b[39m\u001b[32mc:\\Users\\diihr\\Documents\\projeto_django\\venv\\Lib\\site-packages\\django\\db\\models\\base.py:892\u001b[39m, in \u001b[36mModel.save\u001b[39m\u001b[34m(self, force_insert, force_update, using, update_fields, *args)\u001b[39m\n\u001b[32m    889\u001b[39m     \u001b[38;5;28;01mif\u001b[39;00m loaded_fields:\n\u001b[32m    890\u001b[39m         update_fields = \u001b[38;5;28mfrozenset\u001b[39m(loaded_fields)\n\u001b[32m--> \u001b[39m\u001b[32m892\u001b[39m \u001b[38;5;28;43mself\u001b[39;49m\u001b[43m.\u001b[49m\u001b[43msave_base\u001b[49m\u001b[43m(\u001b[49m\n\u001b[32m    893\u001b[39m \u001b[43m    \u001b[49m\u001b[43musing\u001b[49m\u001b[43m=\u001b[49m\u001b[43musing\u001b[49m\u001b[43m,\u001b[49m\n\u001b[32m    894\u001b[39m \u001b[43m    \u001b[49m\u001b[43mforce_insert\u001b[49m\u001b[43m=\u001b[49m\u001b[43mforce_insert\u001b[49m\u001b[43m,\u001b[49m\n\u001b[32m    895\u001b[39m \u001b[43m    \u001b[49m\u001b[43mforce_update\u001b[49m\u001b[43m=\u001b[49m\u001b[43mforce_update\u001b[49m\u001b[43m,\u001b[49m\n\u001b[32m    896\u001b[39m \u001b[43m    \u001b[49m\u001b[43mupdate_fields\u001b[49m\u001b[43m=\u001b[49m\u001b[43mupdate_fields\u001b[49m\u001b[43m,\u001b[49m\n\u001b[32m    897\u001b[39m \u001b[43m\u001b[49m\u001b[43m)\u001b[49m\n",
      "\u001b[36mFile \u001b[39m\u001b[32mc:\\Users\\diihr\\Documents\\projeto_django\\venv\\Lib\\site-packages\\django\\db\\models\\base.py:998\u001b[39m, in \u001b[36mModel.save_base\u001b[39m\u001b[34m(self, raw, force_insert, force_update, using, update_fields)\u001b[39m\n\u001b[32m    994\u001b[39m         force_insert = \u001b[38;5;28mself\u001b[39m._validate_force_insert(force_insert)\n\u001b[32m    995\u001b[39m         parent_inserted = \u001b[38;5;28mself\u001b[39m._save_parents(\n\u001b[32m    996\u001b[39m             \u001b[38;5;28mcls\u001b[39m, using, update_fields, force_insert\n\u001b[32m    997\u001b[39m         )\n\u001b[32m--> \u001b[39m\u001b[32m998\u001b[39m     updated = \u001b[38;5;28;43mself\u001b[39;49m\u001b[43m.\u001b[49m\u001b[43m_save_table\u001b[49m\u001b[43m(\u001b[49m\n\u001b[32m    999\u001b[39m \u001b[43m        \u001b[49m\u001b[43mraw\u001b[49m\u001b[43m,\u001b[49m\n\u001b[32m   1000\u001b[39m \u001b[43m        \u001b[49m\u001b[38;5;28;43mcls\u001b[39;49m\u001b[43m,\u001b[49m\n\u001b[32m   1001\u001b[39m \u001b[43m        \u001b[49m\u001b[43mforce_insert\u001b[49m\u001b[43m \u001b[49m\u001b[38;5;129;43;01mor\u001b[39;49;00m\u001b[43m \u001b[49m\u001b[43mparent_inserted\u001b[49m\u001b[43m,\u001b[49m\n\u001b[32m   1002\u001b[39m \u001b[43m        \u001b[49m\u001b[43mforce_update\u001b[49m\u001b[43m,\u001b[49m\n\u001b[32m   1003\u001b[39m \u001b[43m        \u001b[49m\u001b[43musing\u001b[49m\u001b[43m,\u001b[49m\n\u001b[32m   1004\u001b[39m \u001b[43m        \u001b[49m\u001b[43mupdate_fields\u001b[49m\u001b[43m,\u001b[49m\n\u001b[32m   1005\u001b[39m \u001b[43m    \u001b[49m\u001b[43m)\u001b[49m\n\u001b[32m   1006\u001b[39m \u001b[38;5;66;03m# Store the database on which the object was saved\u001b[39;00m\n\u001b[32m   1007\u001b[39m \u001b[38;5;28mself\u001b[39m._state.db = using\n",
      "\u001b[36mFile \u001b[39m\u001b[32mc:\\Users\\diihr\\Documents\\projeto_django\\venv\\Lib\\site-packages\\django\\db\\models\\base.py:1161\u001b[39m, in \u001b[36mModel._save_table\u001b[39m\u001b[34m(self, raw, cls, force_insert, force_update, using, update_fields)\u001b[39m\n\u001b[32m   1155\u001b[39m fields = [\n\u001b[32m   1156\u001b[39m     f\n\u001b[32m   1157\u001b[39m     \u001b[38;5;28;01mfor\u001b[39;00m f \u001b[38;5;129;01min\u001b[39;00m meta.local_concrete_fields\n\u001b[32m   1158\u001b[39m     \u001b[38;5;28;01mif\u001b[39;00m \u001b[38;5;129;01mnot\u001b[39;00m f.generated \u001b[38;5;129;01mand\u001b[39;00m (pk_set \u001b[38;5;129;01mor\u001b[39;00m f \u001b[38;5;129;01mis\u001b[39;00m \u001b[38;5;129;01mnot\u001b[39;00m meta.auto_field)\n\u001b[32m   1159\u001b[39m ]\n\u001b[32m   1160\u001b[39m returning_fields = meta.db_returning_fields\n\u001b[32m-> \u001b[39m\u001b[32m1161\u001b[39m results = \u001b[38;5;28;43mself\u001b[39;49m\u001b[43m.\u001b[49m\u001b[43m_do_insert\u001b[49m\u001b[43m(\u001b[49m\n\u001b[32m   1162\u001b[39m \u001b[43m    \u001b[49m\u001b[38;5;28;43mcls\u001b[39;49m\u001b[43m.\u001b[49m\u001b[43m_base_manager\u001b[49m\u001b[43m,\u001b[49m\u001b[43m \u001b[49m\u001b[43musing\u001b[49m\u001b[43m,\u001b[49m\u001b[43m \u001b[49m\u001b[43mfields\u001b[49m\u001b[43m,\u001b[49m\u001b[43m \u001b[49m\u001b[43mreturning_fields\u001b[49m\u001b[43m,\u001b[49m\u001b[43m \u001b[49m\u001b[43mraw\u001b[49m\n\u001b[32m   1163\u001b[39m \u001b[43m\u001b[49m\u001b[43m)\u001b[49m\n\u001b[32m   1164\u001b[39m \u001b[38;5;28;01mif\u001b[39;00m results:\n\u001b[32m   1165\u001b[39m     \u001b[38;5;28;01mfor\u001b[39;00m value, field \u001b[38;5;129;01min\u001b[39;00m \u001b[38;5;28mzip\u001b[39m(results[\u001b[32m0\u001b[39m], returning_fields):\n",
      "\u001b[36mFile \u001b[39m\u001b[32mc:\\Users\\diihr\\Documents\\projeto_django\\venv\\Lib\\site-packages\\django\\db\\models\\base.py:1202\u001b[39m, in \u001b[36mModel._do_insert\u001b[39m\u001b[34m(self, manager, using, fields, returning_fields, raw)\u001b[39m\n\u001b[32m   1197\u001b[39m \u001b[38;5;28;01mdef\u001b[39;00m\u001b[38;5;250m \u001b[39m\u001b[34m_do_insert\u001b[39m(\u001b[38;5;28mself\u001b[39m, manager, using, fields, returning_fields, raw):\n\u001b[32m   1198\u001b[39m \u001b[38;5;250m    \u001b[39m\u001b[33;03m\"\"\"\u001b[39;00m\n\u001b[32m   1199\u001b[39m \u001b[33;03m    Do an INSERT. If returning_fields is defined then this method should\u001b[39;00m\n\u001b[32m   1200\u001b[39m \u001b[33;03m    return the newly created data for the model.\u001b[39;00m\n\u001b[32m   1201\u001b[39m \u001b[33;03m    \"\"\"\u001b[39;00m\n\u001b[32m-> \u001b[39m\u001b[32m1202\u001b[39m     \u001b[38;5;28;01mreturn\u001b[39;00m \u001b[43mmanager\u001b[49m\u001b[43m.\u001b[49m\u001b[43m_insert\u001b[49m\u001b[43m(\u001b[49m\n\u001b[32m   1203\u001b[39m \u001b[43m        \u001b[49m\u001b[43m[\u001b[49m\u001b[38;5;28;43mself\u001b[39;49m\u001b[43m]\u001b[49m\u001b[43m,\u001b[49m\n\u001b[32m   1204\u001b[39m \u001b[43m        \u001b[49m\u001b[43mfields\u001b[49m\u001b[43m=\u001b[49m\u001b[43mfields\u001b[49m\u001b[43m,\u001b[49m\n\u001b[32m   1205\u001b[39m \u001b[43m        \u001b[49m\u001b[43mreturning_fields\u001b[49m\u001b[43m=\u001b[49m\u001b[43mreturning_fields\u001b[49m\u001b[43m,\u001b[49m\n\u001b[32m   1206\u001b[39m \u001b[43m        \u001b[49m\u001b[43musing\u001b[49m\u001b[43m=\u001b[49m\u001b[43musing\u001b[49m\u001b[43m,\u001b[49m\n\u001b[32m   1207\u001b[39m \u001b[43m        \u001b[49m\u001b[43mraw\u001b[49m\u001b[43m=\u001b[49m\u001b[43mraw\u001b[49m\u001b[43m,\u001b[49m\n\u001b[32m   1208\u001b[39m \u001b[43m    \u001b[49m\u001b[43m)\u001b[49m\n",
      "\u001b[36mFile \u001b[39m\u001b[32mc:\\Users\\diihr\\Documents\\projeto_django\\venv\\Lib\\site-packages\\django\\db\\models\\manager.py:87\u001b[39m, in \u001b[36mBaseManager._get_queryset_methods.<locals>.create_method.<locals>.manager_method\u001b[39m\u001b[34m(self, *args, **kwargs)\u001b[39m\n\u001b[32m     85\u001b[39m \u001b[38;5;129m@wraps\u001b[39m(method)\n\u001b[32m     86\u001b[39m \u001b[38;5;28;01mdef\u001b[39;00m\u001b[38;5;250m \u001b[39m\u001b[34mmanager_method\u001b[39m(\u001b[38;5;28mself\u001b[39m, *args, **kwargs):\n\u001b[32m---> \u001b[39m\u001b[32m87\u001b[39m     \u001b[38;5;28;01mreturn\u001b[39;00m \u001b[38;5;28;43mgetattr\u001b[39;49m\u001b[43m(\u001b[49m\u001b[38;5;28;43mself\u001b[39;49m\u001b[43m.\u001b[49m\u001b[43mget_queryset\u001b[49m\u001b[43m(\u001b[49m\u001b[43m)\u001b[49m\u001b[43m,\u001b[49m\u001b[43m \u001b[49m\u001b[43mname\u001b[49m\u001b[43m)\u001b[49m\u001b[43m(\u001b[49m\u001b[43m*\u001b[49m\u001b[43margs\u001b[49m\u001b[43m,\u001b[49m\u001b[43m \u001b[49m\u001b[43m*\u001b[49m\u001b[43m*\u001b[49m\u001b[43mkwargs\u001b[49m\u001b[43m)\u001b[49m\n",
      "\u001b[36mFile \u001b[39m\u001b[32mc:\\Users\\diihr\\Documents\\projeto_django\\venv\\Lib\\site-packages\\django\\db\\models\\query.py:1847\u001b[39m, in \u001b[36mQuerySet._insert\u001b[39m\u001b[34m(self, objs, fields, returning_fields, raw, using, on_conflict, update_fields, unique_fields)\u001b[39m\n\u001b[32m   1840\u001b[39m query = sql.InsertQuery(\n\u001b[32m   1841\u001b[39m     \u001b[38;5;28mself\u001b[39m.model,\n\u001b[32m   1842\u001b[39m     on_conflict=on_conflict,\n\u001b[32m   1843\u001b[39m     update_fields=update_fields,\n\u001b[32m   1844\u001b[39m     unique_fields=unique_fields,\n\u001b[32m   1845\u001b[39m )\n\u001b[32m   1846\u001b[39m query.insert_values(fields, objs, raw=raw)\n\u001b[32m-> \u001b[39m\u001b[32m1847\u001b[39m \u001b[38;5;28;01mreturn\u001b[39;00m \u001b[43mquery\u001b[49m\u001b[43m.\u001b[49m\u001b[43mget_compiler\u001b[49m\u001b[43m(\u001b[49m\u001b[43musing\u001b[49m\u001b[43m=\u001b[49m\u001b[43musing\u001b[49m\u001b[43m)\u001b[49m\u001b[43m.\u001b[49m\u001b[43mexecute_sql\u001b[49m\u001b[43m(\u001b[49m\u001b[43mreturning_fields\u001b[49m\u001b[43m)\u001b[49m\n",
      "\u001b[36mFile \u001b[39m\u001b[32mc:\\Users\\diihr\\Documents\\projeto_django\\venv\\Lib\\site-packages\\django\\db\\models\\sql\\compiler.py:1834\u001b[39m, in \u001b[36mSQLInsertCompiler.execute_sql\u001b[39m\u001b[34m(self, returning_fields)\u001b[39m\n\u001b[32m   1832\u001b[39m \u001b[38;5;28mself\u001b[39m.returning_fields = returning_fields\n\u001b[32m   1833\u001b[39m cols = []\n\u001b[32m-> \u001b[39m\u001b[32m1834\u001b[39m \u001b[38;5;28;01mwith\u001b[39;00m \u001b[38;5;28;43mself\u001b[39;49m\u001b[43m.\u001b[49m\u001b[43mconnection\u001b[49m\u001b[43m.\u001b[49m\u001b[43mcursor\u001b[49m\u001b[43m(\u001b[49m\u001b[43m)\u001b[49m \u001b[38;5;28;01mas\u001b[39;00m cursor:\n\u001b[32m   1835\u001b[39m     \u001b[38;5;28;01mfor\u001b[39;00m sql, params \u001b[38;5;129;01min\u001b[39;00m \u001b[38;5;28mself\u001b[39m.as_sql():\n\u001b[32m   1836\u001b[39m         cursor.execute(sql, params)\n",
      "\u001b[36mFile \u001b[39m\u001b[32mc:\\Users\\diihr\\Documents\\projeto_django\\venv\\Lib\\site-packages\\django\\utils\\asyncio.py:24\u001b[39m, in \u001b[36masync_unsafe.<locals>.decorator.<locals>.inner\u001b[39m\u001b[34m(*args, **kwargs)\u001b[39m\n\u001b[32m     22\u001b[39m \u001b[38;5;28;01melse\u001b[39;00m:\n\u001b[32m     23\u001b[39m     \u001b[38;5;28;01mif\u001b[39;00m \u001b[38;5;129;01mnot\u001b[39;00m os.environ.get(\u001b[33m\"\u001b[39m\u001b[33mDJANGO_ALLOW_ASYNC_UNSAFE\u001b[39m\u001b[33m\"\u001b[39m):\n\u001b[32m---> \u001b[39m\u001b[32m24\u001b[39m         \u001b[38;5;28;01mraise\u001b[39;00m SynchronousOnlyOperation(message)\n\u001b[32m     25\u001b[39m \u001b[38;5;66;03m# Pass onward.\u001b[39;00m\n\u001b[32m     26\u001b[39m \u001b[38;5;28;01mreturn\u001b[39;00m func(*args, **kwargs)\n",
      "\u001b[31mSynchronousOnlyOperation\u001b[39m: You cannot call this from an async context - use a thread or sync_to_async."
     ]
    }
   ],
   "source": [
    "from asgiref.sync import sync_to_async\n",
    "import random\n",
    "from rh import models\n",
    "\n",
    "# Função para criar um funcionário com dados aleatórios\n",
    "\n",
    "def criar_funcionario():\n",
    "    numero_sorteado = random.randint(1, 6)  # Gera um número aleatório entre 1 e 6\n",
    "    funcionario = models.Funcionario()\n",
    "    \n",
    "    funcionario.nome = 'Fernanda'\n",
    "    funcionario.cargo = 'Coordenador'\n",
    "    funcionario.tipo_cargo = 'Funcionário'\n",
    "    funcionario.data_admissao = '2024-01-01'\n",
    "    funcionario.data_saida = None\n",
    "    funcionario.nascimento = '1990-02-26'\n",
    "    \n",
    "    funcionario.save()\n",
    "\n",
    "  \n",
    "criar_funcionario()\n"
   ]
  }
 ],
 "metadata": {
  "kernelspec": {
   "display_name": "venv",
   "language": "python",
   "name": "python3"
  },
  "language_info": {
   "codemirror_mode": {
    "name": "ipython",
    "version": 3
   },
   "file_extension": ".py",
   "mimetype": "text/x-python",
   "name": "python",
   "nbconvert_exporter": "python",
   "pygments_lexer": "ipython3",
   "version": "3.12.4"
  }
 },
 "nbformat": 4,
 "nbformat_minor": 2
}
